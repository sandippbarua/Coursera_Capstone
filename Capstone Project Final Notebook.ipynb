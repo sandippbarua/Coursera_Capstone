{
    "nbformat_minor": 1, 
    "cells": [
        {
            "source": "# Capstone Project\n\n## Introduction\n\n    A pizza company, Bob's Pizza, that is currently well established in the Mid-Atlantic states, is interested in expanding into the North East.\n    The company has chosen Boston as a location for their initial expansion. Our company, XYZ Data Analytics, has been hired\n    to identify 5 locations within the Boston city limits where the company can open its pizza stores.\n    \n    In order to maximize the probability that these 5 locations will be the best possible locations, in terms of profitablity, for the new stores,\n    Bob's Pizza has provided a set of guidelines that have proven successfull in other cities where they have established stores.\n    These guidelines are:\n        - Target neighborhoods which have existing fast food stores, including coffee shops, but are underserved by pizza shops.\n        - Do not target neighborhoods that have a high presence of pizza stores already.\n        - Target neighborhoods that have a higher concentration of hotels.\n        \n    Bob's Pizza expects a final proposal to include the data that was used to reach the final conclusion.", 
            "cell_type": "markdown", 
            "metadata": {
                "collapsed": true
            }
        }, 
        {
            "source": "## Description of Data\n\n    The FourSquare location data will be the primary data set that we will use to identify the concentration of various businesses within\n    neighborhoods in Boston. The guidelines from Bob's Pizza will be taken into consideration to define a new set of rules that can be\n    applied to the FourSquare data to determine the 5 best pizza store locations.\n    \n    The various Boston neighborhoods will be determined from the following data set,\n    http://bostonopendata-boston.opendata.arcgis.com/datasets/3525b0ee6e6b427f9aab5d0a1d0a1a28_0.csv\n        \n    The python 'geocoder' package will be used to determine the co-ordinates for each Boston neighborhood.\n    \n    These neighborhood coordinates will be fed to the FourSquare API to obtain the necessary neigborhood business data.\n    ", 
            "cell_type": "markdown", 
            "metadata": {}
        }, 
        {
            "execution_count": null, 
            "cell_type": "code", 
            "metadata": {}, 
            "outputs": [], 
            "source": ""
        }
    ], 
    "metadata": {
        "kernelspec": {
            "display_name": "Python 3.6", 
            "name": "python3", 
            "language": "python"
        }, 
        "language_info": {
            "mimetype": "text/x-python", 
            "nbconvert_exporter": "python", 
            "version": "3.6.8", 
            "name": "python", 
            "file_extension": ".py", 
            "pygments_lexer": "ipython3", 
            "codemirror_mode": {
                "version": 3, 
                "name": "ipython"
            }
        }
    }, 
    "nbformat": 4
}